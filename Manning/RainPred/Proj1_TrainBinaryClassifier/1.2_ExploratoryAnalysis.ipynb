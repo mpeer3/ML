{
 "cells": [
  {
   "cell_type": "code",
   "execution_count": 1,
   "id": "1c9cdc39",
   "metadata": {
    "_cell_guid": "b1076dfc-b9ad-4769-8c92-a6c4dae69d19",
    "_uuid": "8f2839f25d086af736a60e9eeb907d3b93b6e0e5",
    "execution": {
     "iopub.execute_input": "2022-08-19T08:21:42.777283Z",
     "iopub.status.busy": "2022-08-19T08:21:42.776573Z",
     "iopub.status.idle": "2022-08-19T08:21:42.794752Z",
     "shell.execute_reply": "2022-08-19T08:21:42.793645Z"
    },
    "papermill": {
     "duration": 0.027708,
     "end_time": "2022-08-19T08:21:42.797141",
     "exception": false,
     "start_time": "2022-08-19T08:21:42.769433",
     "status": "completed"
    },
    "tags": []
   },
   "outputs": [
    {
     "name": "stdout",
     "output_type": "stream",
     "text": [
      "/kaggle/input/weather-dataset-rattle-package/weatherAUS.csv\n"
     ]
    }
   ],
   "source": [
    "# This Python 3 environment comes with many helpful analytics libraries installed\n",
    "# It is defined by the kaggle/python Docker image: https://github.com/kaggle/docker-python\n",
    "# For example, here's several helpful packages to load\n",
    "\n",
    "import numpy as np # linear algebra\n",
    "import pandas as pd # data processing, CSV file I/O (e.g. pd.read_csv)\n",
    "\n",
    "# Input data files are available in the read-only \"../input/\" directory\n",
    "# For example, running this (by clicking run or pressing Shift+Enter) will list all files under the input directory\n",
    "\n",
    "import os\n",
    "for dirname, _, filenames in os.walk('/kaggle/input'):\n",
    "    for filename in filenames:\n",
    "        print(os.path.join(dirname, filename))\n",
    "\n",
    "# You can write up to 20GB to the current directory (/kaggle/working/) that gets preserved as output when you create a version using \"Save & Run All\" \n",
    "# You can also write temporary files to /kaggle/temp/, but they won't be saved outside of the current session"
   ]
  },
  {
   "cell_type": "code",
   "execution_count": 2,
   "id": "47319025",
   "metadata": {
    "execution": {
     "iopub.execute_input": "2022-08-19T08:21:42.807036Z",
     "iopub.status.busy": "2022-08-19T08:21:42.806657Z",
     "iopub.status.idle": "2022-08-19T08:21:43.355037Z",
     "shell.execute_reply": "2022-08-19T08:21:43.354200Z"
    },
    "papermill": {
     "duration": 0.555881,
     "end_time": "2022-08-19T08:21:43.357446",
     "exception": false,
     "start_time": "2022-08-19T08:21:42.801565",
     "status": "completed"
    },
    "tags": []
   },
   "outputs": [],
   "source": [
    "#Import the CSV-File\n",
    "df=pd.read_csv('/kaggle/input/weather-dataset-rattle-package/weatherAUS.csv')"
   ]
  },
  {
   "cell_type": "code",
   "execution_count": 3,
   "id": "bfc074ab",
   "metadata": {
    "execution": {
     "iopub.execute_input": "2022-08-19T08:21:43.368229Z",
     "iopub.status.busy": "2022-08-19T08:21:43.367388Z",
     "iopub.status.idle": "2022-08-19T08:21:43.407461Z",
     "shell.execute_reply": "2022-08-19T08:21:43.406597Z"
    },
    "papermill": {
     "duration": 0.047815,
     "end_time": "2022-08-19T08:21:43.409679",
     "exception": false,
     "start_time": "2022-08-19T08:21:43.361864",
     "status": "completed"
    },
    "tags": []
   },
   "outputs": [
    {
     "data": {
      "text/html": [
       "<div>\n",
       "<style scoped>\n",
       "    .dataframe tbody tr th:only-of-type {\n",
       "        vertical-align: middle;\n",
       "    }\n",
       "\n",
       "    .dataframe tbody tr th {\n",
       "        vertical-align: top;\n",
       "    }\n",
       "\n",
       "    .dataframe thead th {\n",
       "        text-align: right;\n",
       "    }\n",
       "</style>\n",
       "<table border=\"1\" class=\"dataframe\">\n",
       "  <thead>\n",
       "    <tr style=\"text-align: right;\">\n",
       "      <th></th>\n",
       "      <th>Date</th>\n",
       "      <th>Location</th>\n",
       "      <th>MinTemp</th>\n",
       "      <th>MaxTemp</th>\n",
       "      <th>Rainfall</th>\n",
       "      <th>Evaporation</th>\n",
       "      <th>Sunshine</th>\n",
       "      <th>WindGustDir</th>\n",
       "      <th>WindGustSpeed</th>\n",
       "      <th>WindDir9am</th>\n",
       "      <th>...</th>\n",
       "      <th>Humidity9am</th>\n",
       "      <th>Humidity3pm</th>\n",
       "      <th>Pressure9am</th>\n",
       "      <th>Pressure3pm</th>\n",
       "      <th>Cloud9am</th>\n",
       "      <th>Cloud3pm</th>\n",
       "      <th>Temp9am</th>\n",
       "      <th>Temp3pm</th>\n",
       "      <th>RainToday</th>\n",
       "      <th>RainTomorrow</th>\n",
       "    </tr>\n",
       "  </thead>\n",
       "  <tbody>\n",
       "    <tr>\n",
       "      <th>0</th>\n",
       "      <td>2008-12-01</td>\n",
       "      <td>Albury</td>\n",
       "      <td>13.4</td>\n",
       "      <td>22.9</td>\n",
       "      <td>0.6</td>\n",
       "      <td>NaN</td>\n",
       "      <td>NaN</td>\n",
       "      <td>W</td>\n",
       "      <td>44.0</td>\n",
       "      <td>W</td>\n",
       "      <td>...</td>\n",
       "      <td>71.0</td>\n",
       "      <td>22.0</td>\n",
       "      <td>1007.7</td>\n",
       "      <td>1007.1</td>\n",
       "      <td>8.0</td>\n",
       "      <td>NaN</td>\n",
       "      <td>16.9</td>\n",
       "      <td>21.8</td>\n",
       "      <td>No</td>\n",
       "      <td>No</td>\n",
       "    </tr>\n",
       "    <tr>\n",
       "      <th>1</th>\n",
       "      <td>2008-12-02</td>\n",
       "      <td>Albury</td>\n",
       "      <td>7.4</td>\n",
       "      <td>25.1</td>\n",
       "      <td>0.0</td>\n",
       "      <td>NaN</td>\n",
       "      <td>NaN</td>\n",
       "      <td>WNW</td>\n",
       "      <td>44.0</td>\n",
       "      <td>NNW</td>\n",
       "      <td>...</td>\n",
       "      <td>44.0</td>\n",
       "      <td>25.0</td>\n",
       "      <td>1010.6</td>\n",
       "      <td>1007.8</td>\n",
       "      <td>NaN</td>\n",
       "      <td>NaN</td>\n",
       "      <td>17.2</td>\n",
       "      <td>24.3</td>\n",
       "      <td>No</td>\n",
       "      <td>No</td>\n",
       "    </tr>\n",
       "    <tr>\n",
       "      <th>2</th>\n",
       "      <td>2008-12-03</td>\n",
       "      <td>Albury</td>\n",
       "      <td>12.9</td>\n",
       "      <td>25.7</td>\n",
       "      <td>0.0</td>\n",
       "      <td>NaN</td>\n",
       "      <td>NaN</td>\n",
       "      <td>WSW</td>\n",
       "      <td>46.0</td>\n",
       "      <td>W</td>\n",
       "      <td>...</td>\n",
       "      <td>38.0</td>\n",
       "      <td>30.0</td>\n",
       "      <td>1007.6</td>\n",
       "      <td>1008.7</td>\n",
       "      <td>NaN</td>\n",
       "      <td>2.0</td>\n",
       "      <td>21.0</td>\n",
       "      <td>23.2</td>\n",
       "      <td>No</td>\n",
       "      <td>No</td>\n",
       "    </tr>\n",
       "    <tr>\n",
       "      <th>3</th>\n",
       "      <td>2008-12-04</td>\n",
       "      <td>Albury</td>\n",
       "      <td>9.2</td>\n",
       "      <td>28.0</td>\n",
       "      <td>0.0</td>\n",
       "      <td>NaN</td>\n",
       "      <td>NaN</td>\n",
       "      <td>NE</td>\n",
       "      <td>24.0</td>\n",
       "      <td>SE</td>\n",
       "      <td>...</td>\n",
       "      <td>45.0</td>\n",
       "      <td>16.0</td>\n",
       "      <td>1017.6</td>\n",
       "      <td>1012.8</td>\n",
       "      <td>NaN</td>\n",
       "      <td>NaN</td>\n",
       "      <td>18.1</td>\n",
       "      <td>26.5</td>\n",
       "      <td>No</td>\n",
       "      <td>No</td>\n",
       "    </tr>\n",
       "    <tr>\n",
       "      <th>4</th>\n",
       "      <td>2008-12-05</td>\n",
       "      <td>Albury</td>\n",
       "      <td>17.5</td>\n",
       "      <td>32.3</td>\n",
       "      <td>1.0</td>\n",
       "      <td>NaN</td>\n",
       "      <td>NaN</td>\n",
       "      <td>W</td>\n",
       "      <td>41.0</td>\n",
       "      <td>ENE</td>\n",
       "      <td>...</td>\n",
       "      <td>82.0</td>\n",
       "      <td>33.0</td>\n",
       "      <td>1010.8</td>\n",
       "      <td>1006.0</td>\n",
       "      <td>7.0</td>\n",
       "      <td>8.0</td>\n",
       "      <td>17.8</td>\n",
       "      <td>29.7</td>\n",
       "      <td>No</td>\n",
       "      <td>No</td>\n",
       "    </tr>\n",
       "  </tbody>\n",
       "</table>\n",
       "<p>5 rows × 23 columns</p>\n",
       "</div>"
      ],
      "text/plain": [
       "         Date Location  MinTemp  MaxTemp  Rainfall  Evaporation  Sunshine  \\\n",
       "0  2008-12-01   Albury     13.4     22.9       0.6          NaN       NaN   \n",
       "1  2008-12-02   Albury      7.4     25.1       0.0          NaN       NaN   \n",
       "2  2008-12-03   Albury     12.9     25.7       0.0          NaN       NaN   \n",
       "3  2008-12-04   Albury      9.2     28.0       0.0          NaN       NaN   \n",
       "4  2008-12-05   Albury     17.5     32.3       1.0          NaN       NaN   \n",
       "\n",
       "  WindGustDir  WindGustSpeed WindDir9am  ... Humidity9am  Humidity3pm  \\\n",
       "0           W           44.0          W  ...        71.0         22.0   \n",
       "1         WNW           44.0        NNW  ...        44.0         25.0   \n",
       "2         WSW           46.0          W  ...        38.0         30.0   \n",
       "3          NE           24.0         SE  ...        45.0         16.0   \n",
       "4           W           41.0        ENE  ...        82.0         33.0   \n",
       "\n",
       "   Pressure9am  Pressure3pm  Cloud9am  Cloud3pm  Temp9am  Temp3pm  RainToday  \\\n",
       "0       1007.7       1007.1       8.0       NaN     16.9     21.8         No   \n",
       "1       1010.6       1007.8       NaN       NaN     17.2     24.3         No   \n",
       "2       1007.6       1008.7       NaN       2.0     21.0     23.2         No   \n",
       "3       1017.6       1012.8       NaN       NaN     18.1     26.5         No   \n",
       "4       1010.8       1006.0       7.0       8.0     17.8     29.7         No   \n",
       "\n",
       "   RainTomorrow  \n",
       "0            No  \n",
       "1            No  \n",
       "2            No  \n",
       "3            No  \n",
       "4            No  \n",
       "\n",
       "[5 rows x 23 columns]"
      ]
     },
     "execution_count": 3,
     "metadata": {},
     "output_type": "execute_result"
    }
   ],
   "source": [
    "#Display the first 5 rows\n",
    "df.head()"
   ]
  },
  {
   "cell_type": "code",
   "execution_count": 4,
   "id": "8f37722c",
   "metadata": {
    "execution": {
     "iopub.execute_input": "2022-08-19T08:21:43.421807Z",
     "iopub.status.busy": "2022-08-19T08:21:43.420101Z",
     "iopub.status.idle": "2022-08-19T08:21:43.426544Z",
     "shell.execute_reply": "2022-08-19T08:21:43.425628Z"
    },
    "papermill": {
     "duration": 0.014416,
     "end_time": "2022-08-19T08:21:43.428792",
     "exception": false,
     "start_time": "2022-08-19T08:21:43.414376",
     "status": "completed"
    },
    "tags": []
   },
   "outputs": [
    {
     "data": {
      "text/plain": [
       "145460"
      ]
     },
     "execution_count": 4,
     "metadata": {},
     "output_type": "execute_result"
    }
   ],
   "source": [
    "#Get length of dataframe (145460)\n",
    "len(df)\n"
   ]
  },
  {
   "cell_type": "code",
   "execution_count": 5,
   "id": "c2cffb51",
   "metadata": {
    "execution": {
     "iopub.execute_input": "2022-08-19T08:21:43.440104Z",
     "iopub.status.busy": "2022-08-19T08:21:43.439449Z",
     "iopub.status.idle": "2022-08-19T08:21:43.444769Z",
     "shell.execute_reply": "2022-08-19T08:21:43.443915Z"
    },
    "papermill": {
     "duration": 0.01359,
     "end_time": "2022-08-19T08:21:43.447020",
     "exception": false,
     "start_time": "2022-08-19T08:21:43.433430",
     "status": "completed"
    },
    "tags": []
   },
   "outputs": [
    {
     "data": {
      "text/plain": [
       "(145460, 23)"
      ]
     },
     "execution_count": 5,
     "metadata": {},
     "output_type": "execute_result"
    }
   ],
   "source": [
    "#Get shape of dataframe (145460 rows, 23 columns)\n",
    "df.shape"
   ]
  },
  {
   "cell_type": "code",
   "execution_count": 6,
   "id": "9018fc7c",
   "metadata": {
    "execution": {
     "iopub.execute_input": "2022-08-19T08:21:43.457770Z",
     "iopub.status.busy": "2022-08-19T08:21:43.457368Z",
     "iopub.status.idle": "2022-08-19T08:21:43.464280Z",
     "shell.execute_reply": "2022-08-19T08:21:43.463217Z"
    },
    "papermill": {
     "duration": 0.014785,
     "end_time": "2022-08-19T08:21:43.466438",
     "exception": false,
     "start_time": "2022-08-19T08:21:43.451653",
     "status": "completed"
    },
    "tags": []
   },
   "outputs": [
    {
     "data": {
      "text/plain": [
       "Index(['Date', 'Location', 'MinTemp', 'MaxTemp', 'Rainfall', 'Evaporation',\n",
       "       'Sunshine', 'WindGustDir', 'WindGustSpeed', 'WindDir9am', 'WindDir3pm',\n",
       "       'WindSpeed9am', 'WindSpeed3pm', 'Humidity9am', 'Humidity3pm',\n",
       "       'Pressure9am', 'Pressure3pm', 'Cloud9am', 'Cloud3pm', 'Temp9am',\n",
       "       'Temp3pm', 'RainToday', 'RainTomorrow'],\n",
       "      dtype='object')"
      ]
     },
     "execution_count": 6,
     "metadata": {},
     "output_type": "execute_result"
    }
   ],
   "source": [
    "#Display columns names\n",
    "df.columns"
   ]
  },
  {
   "cell_type": "code",
   "execution_count": 7,
   "id": "20db2492",
   "metadata": {
    "execution": {
     "iopub.execute_input": "2022-08-19T08:21:43.478158Z",
     "iopub.status.busy": "2022-08-19T08:21:43.477399Z",
     "iopub.status.idle": "2022-08-19T08:21:43.549951Z",
     "shell.execute_reply": "2022-08-19T08:21:43.548280Z"
    },
    "papermill": {
     "duration": 0.081228,
     "end_time": "2022-08-19T08:21:43.552473",
     "exception": false,
     "start_time": "2022-08-19T08:21:43.471245",
     "status": "completed"
    },
    "tags": []
   },
   "outputs": [
    {
     "name": "stdout",
     "output_type": "stream",
     "text": [
      "<class 'pandas.core.frame.DataFrame'>\n",
      "RangeIndex: 145460 entries, 0 to 145459\n",
      "Data columns (total 23 columns):\n",
      " #   Column         Non-Null Count   Dtype  \n",
      "---  ------         --------------   -----  \n",
      " 0   Date           145460 non-null  object \n",
      " 1   Location       145460 non-null  object \n",
      " 2   MinTemp        143975 non-null  float64\n",
      " 3   MaxTemp        144199 non-null  float64\n",
      " 4   Rainfall       142199 non-null  float64\n",
      " 5   Evaporation    82670 non-null   float64\n",
      " 6   Sunshine       75625 non-null   float64\n",
      " 7   WindGustDir    135134 non-null  object \n",
      " 8   WindGustSpeed  135197 non-null  float64\n",
      " 9   WindDir9am     134894 non-null  object \n",
      " 10  WindDir3pm     141232 non-null  object \n",
      " 11  WindSpeed9am   143693 non-null  float64\n",
      " 12  WindSpeed3pm   142398 non-null  float64\n",
      " 13  Humidity9am    142806 non-null  float64\n",
      " 14  Humidity3pm    140953 non-null  float64\n",
      " 15  Pressure9am    130395 non-null  float64\n",
      " 16  Pressure3pm    130432 non-null  float64\n",
      " 17  Cloud9am       89572 non-null   float64\n",
      " 18  Cloud3pm       86102 non-null   float64\n",
      " 19  Temp9am        143693 non-null  float64\n",
      " 20  Temp3pm        141851 non-null  float64\n",
      " 21  RainToday      142199 non-null  object \n",
      " 22  RainTomorrow   142193 non-null  object \n",
      "dtypes: float64(16), object(7)\n",
      "memory usage: 25.5+ MB\n"
     ]
    }
   ],
   "source": [
    "#Show column names and types\n",
    "#Date\n",
    "#Location - categorical\n",
    "#RainToday - categorical\n",
    "#Wind-*Dir* - categorical\n",
    "#RainToday/Tomorrow - categorical\n",
    "#RainTomorrow = Target variable\n",
    "df.info()"
   ]
  },
  {
   "cell_type": "code",
   "execution_count": 8,
   "id": "f1077ff0",
   "metadata": {
    "execution": {
     "iopub.execute_input": "2022-08-19T08:21:43.564864Z",
     "iopub.status.busy": "2022-08-19T08:21:43.564101Z",
     "iopub.status.idle": "2022-08-19T08:21:43.744883Z",
     "shell.execute_reply": "2022-08-19T08:21:43.743701Z"
    },
    "papermill": {
     "duration": 0.189777,
     "end_time": "2022-08-19T08:21:43.747604",
     "exception": false,
     "start_time": "2022-08-19T08:21:43.557827",
     "status": "completed"
    },
    "tags": []
   },
   "outputs": [
    {
     "data": {
      "text/html": [
       "<div>\n",
       "<style scoped>\n",
       "    .dataframe tbody tr th:only-of-type {\n",
       "        vertical-align: middle;\n",
       "    }\n",
       "\n",
       "    .dataframe tbody tr th {\n",
       "        vertical-align: top;\n",
       "    }\n",
       "\n",
       "    .dataframe thead th {\n",
       "        text-align: right;\n",
       "    }\n",
       "</style>\n",
       "<table border=\"1\" class=\"dataframe\">\n",
       "  <thead>\n",
       "    <tr style=\"text-align: right;\">\n",
       "      <th></th>\n",
       "      <th>MinTemp</th>\n",
       "      <th>MaxTemp</th>\n",
       "      <th>Rainfall</th>\n",
       "      <th>Evaporation</th>\n",
       "      <th>Sunshine</th>\n",
       "      <th>WindGustSpeed</th>\n",
       "      <th>WindSpeed9am</th>\n",
       "      <th>WindSpeed3pm</th>\n",
       "      <th>Humidity9am</th>\n",
       "      <th>Humidity3pm</th>\n",
       "      <th>Pressure9am</th>\n",
       "      <th>Pressure3pm</th>\n",
       "      <th>Cloud9am</th>\n",
       "      <th>Cloud3pm</th>\n",
       "      <th>Temp9am</th>\n",
       "      <th>Temp3pm</th>\n",
       "    </tr>\n",
       "  </thead>\n",
       "  <tbody>\n",
       "    <tr>\n",
       "      <th>count</th>\n",
       "      <td>143975.000000</td>\n",
       "      <td>144199.000000</td>\n",
       "      <td>142199.000000</td>\n",
       "      <td>82670.000000</td>\n",
       "      <td>75625.000000</td>\n",
       "      <td>135197.000000</td>\n",
       "      <td>143693.000000</td>\n",
       "      <td>142398.000000</td>\n",
       "      <td>142806.000000</td>\n",
       "      <td>140953.000000</td>\n",
       "      <td>130395.00000</td>\n",
       "      <td>130432.000000</td>\n",
       "      <td>89572.000000</td>\n",
       "      <td>86102.000000</td>\n",
       "      <td>143693.000000</td>\n",
       "      <td>141851.00000</td>\n",
       "    </tr>\n",
       "    <tr>\n",
       "      <th>mean</th>\n",
       "      <td>12.194034</td>\n",
       "      <td>23.221348</td>\n",
       "      <td>2.360918</td>\n",
       "      <td>5.468232</td>\n",
       "      <td>7.611178</td>\n",
       "      <td>40.035230</td>\n",
       "      <td>14.043426</td>\n",
       "      <td>18.662657</td>\n",
       "      <td>68.880831</td>\n",
       "      <td>51.539116</td>\n",
       "      <td>1017.64994</td>\n",
       "      <td>1015.255889</td>\n",
       "      <td>4.447461</td>\n",
       "      <td>4.509930</td>\n",
       "      <td>16.990631</td>\n",
       "      <td>21.68339</td>\n",
       "    </tr>\n",
       "    <tr>\n",
       "      <th>std</th>\n",
       "      <td>6.398495</td>\n",
       "      <td>7.119049</td>\n",
       "      <td>8.478060</td>\n",
       "      <td>4.193704</td>\n",
       "      <td>3.785483</td>\n",
       "      <td>13.607062</td>\n",
       "      <td>8.915375</td>\n",
       "      <td>8.809800</td>\n",
       "      <td>19.029164</td>\n",
       "      <td>20.795902</td>\n",
       "      <td>7.10653</td>\n",
       "      <td>7.037414</td>\n",
       "      <td>2.887159</td>\n",
       "      <td>2.720357</td>\n",
       "      <td>6.488753</td>\n",
       "      <td>6.93665</td>\n",
       "    </tr>\n",
       "    <tr>\n",
       "      <th>min</th>\n",
       "      <td>-8.500000</td>\n",
       "      <td>-4.800000</td>\n",
       "      <td>0.000000</td>\n",
       "      <td>0.000000</td>\n",
       "      <td>0.000000</td>\n",
       "      <td>6.000000</td>\n",
       "      <td>0.000000</td>\n",
       "      <td>0.000000</td>\n",
       "      <td>0.000000</td>\n",
       "      <td>0.000000</td>\n",
       "      <td>980.50000</td>\n",
       "      <td>977.100000</td>\n",
       "      <td>0.000000</td>\n",
       "      <td>0.000000</td>\n",
       "      <td>-7.200000</td>\n",
       "      <td>-5.40000</td>\n",
       "    </tr>\n",
       "    <tr>\n",
       "      <th>25%</th>\n",
       "      <td>7.600000</td>\n",
       "      <td>17.900000</td>\n",
       "      <td>0.000000</td>\n",
       "      <td>2.600000</td>\n",
       "      <td>4.800000</td>\n",
       "      <td>31.000000</td>\n",
       "      <td>7.000000</td>\n",
       "      <td>13.000000</td>\n",
       "      <td>57.000000</td>\n",
       "      <td>37.000000</td>\n",
       "      <td>1012.90000</td>\n",
       "      <td>1010.400000</td>\n",
       "      <td>1.000000</td>\n",
       "      <td>2.000000</td>\n",
       "      <td>12.300000</td>\n",
       "      <td>16.60000</td>\n",
       "    </tr>\n",
       "    <tr>\n",
       "      <th>50%</th>\n",
       "      <td>12.000000</td>\n",
       "      <td>22.600000</td>\n",
       "      <td>0.000000</td>\n",
       "      <td>4.800000</td>\n",
       "      <td>8.400000</td>\n",
       "      <td>39.000000</td>\n",
       "      <td>13.000000</td>\n",
       "      <td>19.000000</td>\n",
       "      <td>70.000000</td>\n",
       "      <td>52.000000</td>\n",
       "      <td>1017.60000</td>\n",
       "      <td>1015.200000</td>\n",
       "      <td>5.000000</td>\n",
       "      <td>5.000000</td>\n",
       "      <td>16.700000</td>\n",
       "      <td>21.10000</td>\n",
       "    </tr>\n",
       "    <tr>\n",
       "      <th>75%</th>\n",
       "      <td>16.900000</td>\n",
       "      <td>28.200000</td>\n",
       "      <td>0.800000</td>\n",
       "      <td>7.400000</td>\n",
       "      <td>10.600000</td>\n",
       "      <td>48.000000</td>\n",
       "      <td>19.000000</td>\n",
       "      <td>24.000000</td>\n",
       "      <td>83.000000</td>\n",
       "      <td>66.000000</td>\n",
       "      <td>1022.40000</td>\n",
       "      <td>1020.000000</td>\n",
       "      <td>7.000000</td>\n",
       "      <td>7.000000</td>\n",
       "      <td>21.600000</td>\n",
       "      <td>26.40000</td>\n",
       "    </tr>\n",
       "    <tr>\n",
       "      <th>max</th>\n",
       "      <td>33.900000</td>\n",
       "      <td>48.100000</td>\n",
       "      <td>371.000000</td>\n",
       "      <td>145.000000</td>\n",
       "      <td>14.500000</td>\n",
       "      <td>135.000000</td>\n",
       "      <td>130.000000</td>\n",
       "      <td>87.000000</td>\n",
       "      <td>100.000000</td>\n",
       "      <td>100.000000</td>\n",
       "      <td>1041.00000</td>\n",
       "      <td>1039.600000</td>\n",
       "      <td>9.000000</td>\n",
       "      <td>9.000000</td>\n",
       "      <td>40.200000</td>\n",
       "      <td>46.70000</td>\n",
       "    </tr>\n",
       "  </tbody>\n",
       "</table>\n",
       "</div>"
      ],
      "text/plain": [
       "             MinTemp        MaxTemp       Rainfall   Evaporation  \\\n",
       "count  143975.000000  144199.000000  142199.000000  82670.000000   \n",
       "mean       12.194034      23.221348       2.360918      5.468232   \n",
       "std         6.398495       7.119049       8.478060      4.193704   \n",
       "min        -8.500000      -4.800000       0.000000      0.000000   \n",
       "25%         7.600000      17.900000       0.000000      2.600000   \n",
       "50%        12.000000      22.600000       0.000000      4.800000   \n",
       "75%        16.900000      28.200000       0.800000      7.400000   \n",
       "max        33.900000      48.100000     371.000000    145.000000   \n",
       "\n",
       "           Sunshine  WindGustSpeed   WindSpeed9am   WindSpeed3pm  \\\n",
       "count  75625.000000  135197.000000  143693.000000  142398.000000   \n",
       "mean       7.611178      40.035230      14.043426      18.662657   \n",
       "std        3.785483      13.607062       8.915375       8.809800   \n",
       "min        0.000000       6.000000       0.000000       0.000000   \n",
       "25%        4.800000      31.000000       7.000000      13.000000   \n",
       "50%        8.400000      39.000000      13.000000      19.000000   \n",
       "75%       10.600000      48.000000      19.000000      24.000000   \n",
       "max       14.500000     135.000000     130.000000      87.000000   \n",
       "\n",
       "         Humidity9am    Humidity3pm   Pressure9am    Pressure3pm  \\\n",
       "count  142806.000000  140953.000000  130395.00000  130432.000000   \n",
       "mean       68.880831      51.539116    1017.64994    1015.255889   \n",
       "std        19.029164      20.795902       7.10653       7.037414   \n",
       "min         0.000000       0.000000     980.50000     977.100000   \n",
       "25%        57.000000      37.000000    1012.90000    1010.400000   \n",
       "50%        70.000000      52.000000    1017.60000    1015.200000   \n",
       "75%        83.000000      66.000000    1022.40000    1020.000000   \n",
       "max       100.000000     100.000000    1041.00000    1039.600000   \n",
       "\n",
       "           Cloud9am      Cloud3pm        Temp9am       Temp3pm  \n",
       "count  89572.000000  86102.000000  143693.000000  141851.00000  \n",
       "mean       4.447461      4.509930      16.990631      21.68339  \n",
       "std        2.887159      2.720357       6.488753       6.93665  \n",
       "min        0.000000      0.000000      -7.200000      -5.40000  \n",
       "25%        1.000000      2.000000      12.300000      16.60000  \n",
       "50%        5.000000      5.000000      16.700000      21.10000  \n",
       "75%        7.000000      7.000000      21.600000      26.40000  \n",
       "max        9.000000      9.000000      40.200000      46.70000  "
      ]
     },
     "execution_count": 8,
     "metadata": {},
     "output_type": "execute_result"
    }
   ],
   "source": [
    "#Display statistics\n",
    "df.describe()"
   ]
  },
  {
   "cell_type": "code",
   "execution_count": 9,
   "id": "8e980675",
   "metadata": {
    "execution": {
     "iopub.execute_input": "2022-08-19T08:21:43.760487Z",
     "iopub.status.busy": "2022-08-19T08:21:43.760074Z",
     "iopub.status.idle": "2022-08-19T08:21:43.816257Z",
     "shell.execute_reply": "2022-08-19T08:21:43.815193Z"
    },
    "papermill": {
     "duration": 0.065399,
     "end_time": "2022-08-19T08:21:43.818667",
     "exception": false,
     "start_time": "2022-08-19T08:21:43.753268",
     "status": "completed"
    },
    "tags": []
   },
   "outputs": [
    {
     "data": {
      "text/plain": [
       "Date                 0\n",
       "Location             0\n",
       "MinTemp           1485\n",
       "MaxTemp           1261\n",
       "Rainfall          3261\n",
       "Evaporation      62790\n",
       "Sunshine         69835\n",
       "WindGustDir      10326\n",
       "WindGustSpeed    10263\n",
       "WindDir9am       10566\n",
       "WindDir3pm        4228\n",
       "WindSpeed9am      1767\n",
       "WindSpeed3pm      3062\n",
       "Humidity9am       2654\n",
       "Humidity3pm       4507\n",
       "Pressure9am      15065\n",
       "Pressure3pm      15028\n",
       "Cloud9am         55888\n",
       "Cloud3pm         59358\n",
       "Temp9am           1767\n",
       "Temp3pm           3609\n",
       "RainToday         3261\n",
       "RainTomorrow      3267\n",
       "dtype: int64"
      ]
     },
     "execution_count": 9,
     "metadata": {},
     "output_type": "execute_result"
    }
   ],
   "source": [
    "#Count NULL-Values\n",
    "df.isnull().sum()"
   ]
  },
  {
   "cell_type": "code",
   "execution_count": 10,
   "id": "47976ec5",
   "metadata": {
    "execution": {
     "iopub.execute_input": "2022-08-19T08:21:43.831536Z",
     "iopub.status.busy": "2022-08-19T08:21:43.831098Z",
     "iopub.status.idle": "2022-08-19T08:21:43.926329Z",
     "shell.execute_reply": "2022-08-19T08:21:43.925253Z"
    },
    "papermill": {
     "duration": 0.104625,
     "end_time": "2022-08-19T08:21:43.928912",
     "exception": false,
     "start_time": "2022-08-19T08:21:43.824287",
     "status": "completed"
    },
    "tags": []
   },
   "outputs": [
    {
     "data": {
      "text/plain": [
       "Date             3436\n",
       "Location           49\n",
       "MinTemp           389\n",
       "MaxTemp           505\n",
       "Rainfall          681\n",
       "Evaporation       358\n",
       "Sunshine          145\n",
       "WindGustDir        16\n",
       "WindGustSpeed      67\n",
       "WindDir9am         16\n",
       "WindDir3pm         16\n",
       "WindSpeed9am       43\n",
       "WindSpeed3pm       44\n",
       "Humidity9am       101\n",
       "Humidity3pm       101\n",
       "Pressure9am       546\n",
       "Pressure3pm       549\n",
       "Cloud9am           10\n",
       "Cloud3pm           10\n",
       "Temp9am           441\n",
       "Temp3pm           502\n",
       "RainToday           2\n",
       "RainTomorrow        2\n",
       "dtype: int64"
      ]
     },
     "execution_count": 10,
     "metadata": {},
     "output_type": "execute_result"
    }
   ],
   "source": [
    "#Count unique values\n",
    "df.nunique()"
   ]
  },
  {
   "cell_type": "code",
   "execution_count": 11,
   "id": "23fe3d68",
   "metadata": {
    "execution": {
     "iopub.execute_input": "2022-08-19T08:21:43.941533Z",
     "iopub.status.busy": "2022-08-19T08:21:43.941130Z",
     "iopub.status.idle": "2022-08-19T08:21:45.716706Z",
     "shell.execute_reply": "2022-08-19T08:21:45.715400Z"
    },
    "papermill": {
     "duration": 1.78489,
     "end_time": "2022-08-19T08:21:45.719314",
     "exception": false,
     "start_time": "2022-08-19T08:21:43.934424",
     "status": "completed"
    },
    "tags": []
   },
   "outputs": [
    {
     "data": {
      "text/plain": [
       "(array([ 0,  1,  2,  3,  4,  5,  6,  7,  8,  9, 10, 11, 12, 13, 14, 15, 16,\n",
       "        17, 18, 19, 20, 21, 22, 23, 24, 25, 26, 27, 28, 29, 30, 31, 32, 33,\n",
       "        34, 35, 36, 37, 38, 39, 40, 41, 42, 43, 44, 45, 46, 47, 48]),\n",
       " [Text(0, 0, 'Albury'),\n",
       "  Text(1, 0, 'BadgerysCreek'),\n",
       "  Text(2, 0, 'Cobar'),\n",
       "  Text(3, 0, 'CoffsHarbour'),\n",
       "  Text(4, 0, 'Moree'),\n",
       "  Text(5, 0, 'Newcastle'),\n",
       "  Text(6, 0, 'NorahHead'),\n",
       "  Text(7, 0, 'NorfolkIsland'),\n",
       "  Text(8, 0, 'Penrith'),\n",
       "  Text(9, 0, 'Richmond'),\n",
       "  Text(10, 0, 'Sydney'),\n",
       "  Text(11, 0, 'SydneyAirport'),\n",
       "  Text(12, 0, 'WaggaWagga'),\n",
       "  Text(13, 0, 'Williamtown'),\n",
       "  Text(14, 0, 'Wollongong'),\n",
       "  Text(15, 0, 'Canberra'),\n",
       "  Text(16, 0, 'Tuggeranong'),\n",
       "  Text(17, 0, 'MountGinini'),\n",
       "  Text(18, 0, 'Ballarat'),\n",
       "  Text(19, 0, 'Bendigo'),\n",
       "  Text(20, 0, 'Sale'),\n",
       "  Text(21, 0, 'MelbourneAirport'),\n",
       "  Text(22, 0, 'Melbourne'),\n",
       "  Text(23, 0, 'Mildura'),\n",
       "  Text(24, 0, 'Nhil'),\n",
       "  Text(25, 0, 'Portland'),\n",
       "  Text(26, 0, 'Watsonia'),\n",
       "  Text(27, 0, 'Dartmoor'),\n",
       "  Text(28, 0, 'Brisbane'),\n",
       "  Text(29, 0, 'Cairns'),\n",
       "  Text(30, 0, 'GoldCoast'),\n",
       "  Text(31, 0, 'Townsville'),\n",
       "  Text(32, 0, 'Adelaide'),\n",
       "  Text(33, 0, 'MountGambier'),\n",
       "  Text(34, 0, 'Nuriootpa'),\n",
       "  Text(35, 0, 'Woomera'),\n",
       "  Text(36, 0, 'Albany'),\n",
       "  Text(37, 0, 'Witchcliffe'),\n",
       "  Text(38, 0, 'PearceRAAF'),\n",
       "  Text(39, 0, 'PerthAirport'),\n",
       "  Text(40, 0, 'Perth'),\n",
       "  Text(41, 0, 'SalmonGums'),\n",
       "  Text(42, 0, 'Walpole'),\n",
       "  Text(43, 0, 'Hobart'),\n",
       "  Text(44, 0, 'Launceston'),\n",
       "  Text(45, 0, 'AliceSprings'),\n",
       "  Text(46, 0, 'Darwin'),\n",
       "  Text(47, 0, 'Katherine'),\n",
       "  Text(48, 0, 'Uluru')])"
      ]
     },
     "execution_count": 11,
     "metadata": {},
     "output_type": "execute_result"
    },
    {
     "data": {
      "image/png": "[encoded data removed]",
      "text/plain": [
       "<Figure size 432x288 with 1 Axes>"
      ]
     },
     "metadata": {
      "needs_background": "light"
     },
     "output_type": "display_data"
    }
   ],
   "source": [
    "#Countplot of \"Location\" - ~3000 observations/location (46/49 locations)\n",
    "import matplotlib.pyplot as plt\n",
    "import seaborn as sns, numpy as np\n",
    "sns.countplot(x=\"Location\", data=df)\n",
    "plt.xticks(rotation=45)"
   ]
  },
  {
   "cell_type": "code",
   "execution_count": 12,
   "id": "02059a31",
   "metadata": {
    "execution": {
     "iopub.execute_input": "2022-08-19T08:21:45.733823Z",
     "iopub.status.busy": "2022-08-19T08:21:45.732914Z",
     "iopub.status.idle": "2022-08-19T08:21:45.763683Z",
     "shell.execute_reply": "2022-08-19T08:21:45.762533Z"
    },
    "papermill": {
     "duration": 0.040486,
     "end_time": "2022-08-19T08:21:45.766106",
     "exception": false,
     "start_time": "2022-08-19T08:21:45.725620",
     "status": "completed"
    },
    "tags": []
   },
   "outputs": [
    {
     "data": {
      "text/plain": [
       "Location\n",
       "Canberra            3436\n",
       "Sydney              3344\n",
       "Adelaide            3193\n",
       "Melbourne           3193\n",
       "Perth               3193\n",
       "Hobart              3193\n",
       "Brisbane            3193\n",
       "Darwin              3193\n",
       "Albany              3040\n",
       "Launceston          3040\n",
       "GoldCoast           3040\n",
       "Townsville          3040\n",
       "MountGambier        3040\n",
       "Cairns              3040\n",
       "Bendigo             3040\n",
       "Ballarat            3040\n",
       "Wollongong          3040\n",
       "AliceSprings        3040\n",
       "Albury              3040\n",
       "MountGinini         3040\n",
       "Tuggeranong         3039\n",
       "Penrith             3039\n",
       "Newcastle           3039\n",
       "Moree               3009\n",
       "Sale                3009\n",
       "BadgerysCreek       3009\n",
       "Witchcliffe         3009\n",
       "Williamtown         3009\n",
       "Watsonia            3009\n",
       "WaggaWagga          3009\n",
       "Cobar               3009\n",
       "CoffsHarbour        3009\n",
       "SydneyAirport       3009\n",
       "Dartmoor            3009\n",
       "Mildura             3009\n",
       "Woomera             3009\n",
       "Richmond            3009\n",
       "Portland            3009\n",
       "PerthAirport        3009\n",
       "MelbourneAirport    3009\n",
       "PearceRAAF          3009\n",
       "Nuriootpa           3009\n",
       "NorfolkIsland       3009\n",
       "Walpole             3006\n",
       "NorahHead           3004\n",
       "SalmonGums          3001\n",
       "Katherine           1578\n",
       "Uluru               1578\n",
       "Nhil                1578\n",
       "Name: Location, dtype: int64"
      ]
     },
     "execution_count": 12,
     "metadata": {},
     "output_type": "execute_result"
    }
   ],
   "source": [
    "#Finding locations with fewer observations (Katherine, Uluru, Nhil)\n",
    "df.groupby(['Location'])['Location'].count().sort_values(ascending=False)"
   ]
  },
  {
   "cell_type": "code",
   "execution_count": 13,
   "id": "7afc4a01",
   "metadata": {
    "execution": {
     "iopub.execute_input": "2022-08-19T08:21:45.781133Z",
     "iopub.status.busy": "2022-08-19T08:21:45.780567Z",
     "iopub.status.idle": "2022-08-19T08:21:45.797697Z",
     "shell.execute_reply": "2022-08-19T08:21:45.796578Z"
    },
    "papermill": {
     "duration": 0.027244,
     "end_time": "2022-08-19T08:21:45.799995",
     "exception": false,
     "start_time": "2022-08-19T08:21:45.772751",
     "status": "completed"
    },
    "tags": []
   },
   "outputs": [
    {
     "data": {
      "text/plain": [
       "Canberra            3436\n",
       "Sydney              3344\n",
       "Darwin              3193\n",
       "Melbourne           3193\n",
       "Brisbane            3193\n",
       "Adelaide            3193\n",
       "Perth               3193\n",
       "Hobart              3193\n",
       "Launceston          3040\n",
       "Wollongong          3040\n",
       "MountGinini         3040\n",
       "Albury              3040\n",
       "AliceSprings        3040\n",
       "Bendigo             3040\n",
       "Cairns              3040\n",
       "Townsville          3040\n",
       "Ballarat            3040\n",
       "MountGambier        3040\n",
       "GoldCoast           3040\n",
       "Albany              3040\n",
       "Newcastle           3039\n",
       "Tuggeranong         3039\n",
       "Penrith             3039\n",
       "WaggaWagga          3009\n",
       "MelbourneAirport    3009\n",
       "Richmond            3009\n",
       "SydneyAirport       3009\n",
       "Portland            3009\n",
       "Williamtown         3009\n",
       "Dartmoor            3009\n",
       "Watsonia            3009\n",
       "Mildura             3009\n",
       "NorfolkIsland       3009\n",
       "Nuriootpa           3009\n",
       "BadgerysCreek       3009\n",
       "Witchcliffe         3009\n",
       "PearceRAAF          3009\n",
       "PerthAirport        3009\n",
       "Sale                3009\n",
       "Moree               3009\n",
       "CoffsHarbour        3009\n",
       "Cobar               3009\n",
       "Woomera             3009\n",
       "Walpole             3006\n",
       "NorahHead           3004\n",
       "SalmonGums          3001\n",
       "Katherine           1578\n",
       "Nhil                1578\n",
       "Uluru               1578\n",
       "Name: Location, dtype: int64"
      ]
     },
     "execution_count": 13,
     "metadata": {},
     "output_type": "execute_result"
    }
   ],
   "source": [
    "#Same as above, but using value_counts\n",
    "ct_loc=df['Location'].value_counts().sort_values(ascending=False)\n",
    "ct_loc"
   ]
  },
  {
   "cell_type": "code",
   "execution_count": 14,
   "id": "775ae6b8",
   "metadata": {
    "execution": {
     "iopub.execute_input": "2022-08-19T08:21:45.815710Z",
     "iopub.status.busy": "2022-08-19T08:21:45.815268Z",
     "iopub.status.idle": "2022-08-19T08:21:46.374430Z",
     "shell.execute_reply": "2022-08-19T08:21:46.373290Z"
    },
    "papermill": {
     "duration": 0.570059,
     "end_time": "2022-08-19T08:21:46.376889",
     "exception": false,
     "start_time": "2022-08-19T08:21:45.806830",
     "status": "completed"
    },
    "tags": []
   },
   "outputs": [
    {
     "data": {
      "text/plain": [
       "<AxesSubplot:>"
      ]
     },
     "execution_count": 14,
     "metadata": {},
     "output_type": "execute_result"
    },
    {
     "data": {
      "image/png": "[encoded data removed]",
      "text/plain": [
       "<Figure size 432x288 with 1 Axes>"
      ]
     },
     "metadata": {
      "needs_background": "light"
     },
     "output_type": "display_data"
    }
   ],
   "source": [
    "ct_loc.plot(kind='bar')"
   ]
  }
 ],
 "metadata": {
  "kernelspec": {
   "display_name": "Python 3",
   "language": "python",
   "name": "python3"
  },
  "language_info": {
   "codemirror_mode": {
    "name": "ipython",
    "version": 3
   },
   "file_extension": ".py",
   "mimetype": "text/x-python",
   "name": "python",
   "nbconvert_exporter": "python",
   "pygments_lexer": "ipython3",
   "version": "3.7.12"
  },
  "papermill": {
   "default_parameters": {},
   "duration": 15.102758,
   "end_time": "2022-08-19T08:21:49.305914",
   "environment_variables": {},
   "exception": null,
   "input_path": "__notebook__.ipynb",
   "output_path": "__notebook__.ipynb",
   "parameters": {},
   "start_time": "2022-08-19T08:21:34.203156",
   "version": "2.3.4"
  }
 },
 "nbformat": 4,
 "nbformat_minor": 5
}
